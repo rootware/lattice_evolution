{
 "cells": [
  {
   "cell_type": "code",
   "execution_count": 1,
   "metadata": {},
   "outputs": [],
   "source": [
    "import numpy as np;\n",
    "import matplotlib.pyplot as plt;"
   ]
  },
  {
   "cell_type": "code",
   "execution_count": 2,
   "metadata": {},
   "outputs": [],
   "source": [
    "data = np.loadtxt(\"test.txt\");\n",
    "datanew  = data[ np.lexsort((data[:,1],data[:,0])) ]"
   ]
  },
  {
   "cell_type": "code",
   "execution_count": 4,
   "metadata": {},
   "outputs": [
    {
     "name": "stdout",
     "output_type": "stream",
     "text": [
      "[[ 0.00000000e+00  0.00000000e+00 -2.25000000e-02  9.00000000e+00\n",
      "   4.08295413e-04  1.90637655e-03  7.35950893e-02  1.22654156e-01\n",
      "   3.62331866e-01  6.42953642e-02  3.60765681e-01  1.32006398e-03\n",
      "   5.38738105e-03  7.07678489e-03  2.58941402e-04]\n",
      " [ 0.00000000e+00  1.00000000e+00 -2.25000000e-02  9.04000000e+00\n",
      "   4.20433905e-04  1.98813840e-03  7.59639998e-02  1.22283110e-01\n",
      "   3.47966143e-01  6.74729420e-02  3.69373931e-01  1.44451367e-03\n",
      "   5.63644525e-03  7.18180289e-03  2.68539640e-04]\n",
      " [ 1.00000000e+00  0.00000000e+00 -2.20500000e-02  9.00000000e+00\n",
      "   3.64803942e-04  1.50020521e-03  7.32676480e-02  1.33626824e-01\n",
      "   3.66204198e-01  5.88309019e-02  3.51909566e-01  1.01156497e-03\n",
      "   5.81742723e-03  7.20936374e-03  2.57497581e-04]\n",
      " [ 1.00000000e+00  1.00000000e+00 -2.20500000e-02  9.04000000e+00\n",
      "   3.75634858e-04  1.57798443e-03  7.56323042e-02  1.33252047e-01\n",
      "   3.51841852e-01  6.17145823e-02  3.60724370e-01  1.21397879e-03\n",
      "   6.08263025e-03  7.31745485e-03  2.67161901e-04]]\n"
     ]
    }
   ],
   "source": [
    "print(datanew)"
   ]
  },
  {
   "cell_type": "code",
   "execution_count": 4,
   "metadata": {},
   "outputs": [],
   "source": [
    "AVIndex=datanew[:,0:2]\n",
    "MomProb=datanew[:,4:]"
   ]
  },
  {
   "cell_type": "code",
   "execution_count": 5,
   "metadata": {},
   "outputs": [],
   "source": [
    "np.savetxt(\"AVIndex.txt\",AVIndex)"
   ]
  },
  {
   "cell_type": "code",
   "execution_count": 6,
   "metadata": {},
   "outputs": [],
   "source": [
    "np.savetxt(\"MomProb.txt\",MomProb)"
   ]
  },
  {
   "cell_type": "code",
   "execution_count": null,
   "metadata": {},
   "outputs": [],
   "source": [
    "x=[];\n",
    "for i in range(len(MomProb)):\n",
    "    x.append(np.sum(MomProb[i,:])-1.0)"
   ]
  },
  {
   "cell_type": "code",
   "execution_count": null,
   "metadata": {},
   "outputs": [],
   "source": [
    "plt.plot(x);"
   ]
  }
 ],
 "metadata": {
  "kernelspec": {
   "display_name": "Research",
   "language": "python",
   "name": "python3"
  },
  "language_info": {
   "codemirror_mode": {
    "name": "ipython",
    "version": 3
   },
   "file_extension": ".py",
   "mimetype": "text/x-python",
   "name": "python",
   "nbconvert_exporter": "python",
   "pygments_lexer": "ipython3",
   "version": "3.11.4"
  }
 },
 "nbformat": 4,
 "nbformat_minor": 2
}
