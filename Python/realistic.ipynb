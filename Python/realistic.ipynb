{
 "cells": [
  {
   "cell_type": "code",
   "execution_count": null,
   "metadata": {},
   "outputs": [],
   "source": [
    "import matplotlib.pyplot as plt;\n",
    "import numpy as np;\n",
    "import scipy as scp;\n",
    "from mpl_toolkits.axes_grid1 import make_axes_locatable\n"
   ]
  },
  {
   "cell_type": "code",
   "execution_count": null,
   "metadata": {},
   "outputs": [],
   "source": [
    "data = np.loadtxt(\"../plot_finer/test_with_tof.txt\", delimiter=',', dtype=np.complex64);"
   ]
  },
  {
   "cell_type": "code",
   "execution_count": null,
   "metadata": {},
   "outputs": [],
   "source": [
    "data_subtracted=data[:, 4:]\n",
    "np.shape(data_subtracted)"
   ]
  },
  {
   "cell_type": "code",
   "execution_count": null,
   "metadata": {},
   "outputs": [],
   "source": [
    "plt.imshow(np.square(np.abs(data_subtracted)).T, cmap = \"magma\", extent = [ data[0,2],data[-1,2], -16/2,16/2 ,],origin=\"lower\",aspect = \"auto\")\n",
    "plt.grid(False)\n",
    "plt.title(\"Momentum\")\n",
    "plt.xlabel(\"$t\\omega_r$\")\n",
    "plt.ylabel(\"$p(\\hbar k_L)$\")"
   ]
  },
  {
   "cell_type": "markdown",
   "metadata": {},
   "source": [
    "## FFT STYLE 1"
   ]
  },
  {
   "cell_type": "code",
   "execution_count": null,
   "metadata": {},
   "outputs": [],
   "source": [
    "myfft = np.array([scp.fft.fft( data_subtracted[n,:]) for n in range(len(data_subtracted))])"
   ]
  },
  {
   "cell_type": "code",
   "execution_count": null,
   "metadata": {},
   "outputs": [],
   "source": [
    "x_val=np.square(np.abs(myfft))"
   ]
  },
  {
   "cell_type": "code",
   "execution_count": null,
   "metadata": {},
   "outputs": [],
   "source": [
    "plt.imshow(x_val.T, cmap=\"magma\", aspect=\"auto\")"
   ]
  },
  {
   "cell_type": "code",
   "execution_count": null,
   "metadata": {},
   "outputs": [],
   "source": [
    "halfway = int((len(x_val[:,0])-1)/2)\n",
    "halfway"
   ]
  },
  {
   "cell_type": "code",
   "execution_count": null,
   "metadata": {},
   "outputs": [],
   "source": [
    "x_reshaped = np.concatenate( (x_val[:,halfway:], x_val[:,0:halfway+1]), axis=1 )"
   ]
  },
  {
   "cell_type": "code",
   "execution_count": null,
   "metadata": {},
   "outputs": [],
   "source": [
    "plt.imshow(x_val[:, halfway:-1], cmap=\"magma\", aspect=\"auto\")"
   ]
  },
  {
   "cell_type": "code",
   "execution_count": null,
   "metadata": {},
   "outputs": [],
   "source": [
    "plt.imshow(x_val[:,0:halfway+1], aspect = \"auto\")"
   ]
  },
  {
   "cell_type": "markdown",
   "metadata": {},
   "source": [
    "## FFT STYLE 2"
   ]
  },
  {
   "cell_type": "code",
   "execution_count": null,
   "metadata": {},
   "outputs": [],
   "source": [
    "halfway = int((len(data_subtracted[0,:])-1)/2)\n",
    "halfway\n",
    "p_reshaped = np.concatenate( (data_subtracted[:,halfway:], data_subtracted[:,0:halfway+1]), axis=1 )"
   ]
  },
  {
   "cell_type": "code",
   "execution_count": null,
   "metadata": {},
   "outputs": [],
   "source": [
    "myfft = np.array([scp.fft.fft(p_reshaped[n]) for n in range(len(data_subtracted))])"
   ]
  },
  {
   "cell_type": "code",
   "execution_count": null,
   "metadata": {},
   "outputs": [],
   "source": [
    "myfft_reshaped=np.concatenate( (myfft[:,halfway:], myfft[:,0:halfway+1]), axis=1 )"
   ]
  },
  {
   "cell_type": "markdown",
   "metadata": {},
   "source": [
    "## WARNING: Why aren't these normalized"
   ]
  },
  {
   "cell_type": "code",
   "execution_count": null,
   "metadata": {},
   "outputs": [],
   "source": [
    "temp = np.square(np.abs(myfft_reshaped));\n",
    "myfft_reshaped_rescaled = np.array ( [ temp[m,:]/np.sum(temp[m,:])    for m in range(len(myfft_reshaped)) ] )"
   ]
  },
  {
   "cell_type": "code",
   "execution_count": null,
   "metadata": {},
   "outputs": [],
   "source": [
    "plt.figure(figsize = (12, 6))\n",
    "\n",
    "plt.subplot(121)\n",
    "im=plt.imshow(myfft_reshaped_rescaled.T, cmap=\"hot\",aspect=\"0.04\", vmax = 0.03, extent=[data[0,2],data[-1,2], -96, 96])\n",
    "ax = plt.gca()\n",
    "#divider = make_axes_locatable(ax)\n",
    "#cax = divider.append_axes(\"right\", size=\"25%\", pad=0.1)\n",
    "#plt.colorbar(im, cax=cax)\n",
    "plt.colorbar(shrink = 0.5)\n",
    "\n",
    "plt.xlabel(\"$t\\omega_r$\")\n",
    "plt.ylabel(\"$x (k_L^{-1})$ \\n(double check range of $x$)\")\n",
    "plt.title(\"Wavepacket evolution\")\n",
    "print( 32*np.pi/11.5)\n",
    "y = np.arange(-96,96,0.1);\n",
    "plt.plot(np.ones(len(y))*32*np.pi/11.5, y)\n",
    "\n",
    "\n",
    "plt.subplot(122)\n",
    "plt.plot(data[:,2],data[:,3], color= \"red\")\n",
    "plt.title(\"DSP shaking with TOF\")\n",
    "plt.ylabel(\"Amplitude $A$ of $\\phi = A\\sin\\omega t$\") \n",
    "plt.xlabel(\"$t(\\omega_R^{-1})$\")\n",
    "y2 = np.arange(-1.5*np.pi,1.5*np.pi,0.1);\n",
    "plt.plot(np.ones(len(y2))*32*np.pi/11.5, y2)\n",
    "plt.tight_layout()"
   ]
  },
  {
   "cell_type": "code",
   "execution_count": null,
   "metadata": {},
   "outputs": [],
   "source": [
    "time = data[:,2];\n",
    "dt = time[2]-time[1];\n",
    "time_to_plot = 17.5 ; # im omega_R inverse\n",
    "time_index_to_plot = int(18/dt)\n",
    "\n",
    "fig = plt.figure(figsize=(12,5));\n",
    "# animation function. This is called sequentially\n",
    "\n",
    "for t_ind in range( time_index_to_plot, len(time), 100):\n",
    "    plt.plot( myfft_reshaped_rescaled[t_ind, :])\n",
    "    plt.pause(0.01)\n",
    "\n",
    "plt.show()\n"
   ]
  },
  {
   "cell_type": "code",
   "execution_count": null,
   "metadata": {},
   "outputs": [],
   "source": [
    "time_index_to_plot"
   ]
  },
  {
   "cell_type": "code",
   "execution_count": null,
   "metadata": {},
   "outputs": [],
   "source": []
  }
 ],
 "metadata": {
  "kernelspec": {
   "display_name": "Research_Lattice",
   "language": "python",
   "name": "python3"
  },
  "language_info": {
   "codemirror_mode": {
    "name": "ipython",
    "version": 3
   },
   "file_extension": ".py",
   "mimetype": "text/x-python",
   "name": "python",
   "nbconvert_exporter": "python",
   "pygments_lexer": "ipython3",
   "version": "3.12.2"
  }
 },
 "nbformat": 4,
 "nbformat_minor": 2
}
