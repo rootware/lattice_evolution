{
 "cells": [
  {
   "cell_type": "code",
   "execution_count": 1,
   "metadata": {},
   "outputs": [
    {
     "name": "stdout",
     "output_type": "stream",
     "text": [
      "4.370911518037973\n"
     ]
    }
   ],
   "source": [
    "import numpy as np;\n",
    "import matplotlib.pyplot as plt;\n",
    "import matplotlib\n",
    "#import seaborn as sns;\n",
    "#import seaborn.objects as so;\n",
    "import Units\n",
    "from Units import g as g;\n",
    "from Units import accUnit as accUnit\n",
    "#sns.set_theme()"
   ]
  },
  {
   "cell_type": "code",
   "execution_count": 3,
   "metadata": {},
   "outputs": [
    {
     "ename": "NameError",
     "evalue": "name 'MomProb' is not defined",
     "output_type": "error",
     "traceback": [
      "\u001b[0;31m---------------------------------------------------------------------------\u001b[0m",
      "\u001b[0;31mNameError\u001b[0m                                 Traceback (most recent call last)",
      "Cell \u001b[0;32mIn[3], line 8\u001b[0m\n\u001b[1;32m      5\u001b[0m AVListIndex\u001b[38;5;241m=\u001b[39mdatanew[:,\u001b[38;5;241m0\u001b[39m:\u001b[38;5;241m2\u001b[39m]\u001b[38;5;241m.\u001b[39mastype(np\u001b[38;5;241m.\u001b[39mint64)\n\u001b[1;32m      7\u001b[0m momindices\u001b[38;5;241m=\u001b[39mnp\u001b[38;5;241m.\u001b[39mwhere(AVListIndex[:,\u001b[38;5;241m1\u001b[39m]\u001b[38;5;241m==\u001b[39m\u001b[38;5;28mint\u001b[39m((VList\u001b[38;5;241m.\u001b[39mshape[\u001b[38;5;241m0\u001b[39m]\u001b[38;5;241m-\u001b[39m\u001b[38;5;241m1\u001b[39m)\u001b[38;5;241m/\u001b[39m\u001b[38;5;241m2\u001b[39m))[\u001b[38;5;241m0\u001b[39m];\n\u001b[0;32m----> 8\u001b[0m momproblist \u001b[38;5;241m=\u001b[39mMomProb[momindices];\n\u001b[1;32m      9\u001b[0m indices \u001b[38;5;241m=\u001b[39m AVListIndex[momindices];\n\u001b[1;32m     11\u001b[0m accindices \u001b[38;5;241m=\u001b[39m indices[:, \u001b[38;5;241m0\u001b[39m];\n",
      "\u001b[0;31mNameError\u001b[0m: name 'MomProb' is not defined"
     ]
    }
   ],
   "source": [
    "data = np.loadtxt(\"../Data/Rust_Runs/dynamic_range/Run2/test.txt\");\n",
    "datanew  = data[ np.lexsort((data[:,1],data[:,0])) ]\n",
    "AList= np.unique(datanew[:, 2])\n",
    "VList = np.unique(datanew[:,3])\n",
    "AVListIndex=datanew[:,0:2].astype(np.int64)\n",
    "\n",
    "momindices=np.where(AVListIndex[:,1]==int((VList.shape[0]-1)/2))[0];\n",
    "momproblist =MomProb[momindices];\n",
    "indices = AVListIndex[momindices];\n",
    "\n",
    "accindices = indices[:, 0];\n",
    "acc = AList[accindices]\n",
    "\n",
    "no_of_values = len(accindices);\n",
    "JSDivergenceMatrix=np.zeros((no_of_values, no_of_values)) ;\n",
    "\n",
    "for i in accindices:\n",
    "    for j in accindices:\n",
    "        JSDivergenceMatrix [i][j]= JSDivergence(momproblist[i], momproblist[j])\n",
    "\n",
    "\n",
    "##plt.locator_params(axis='both', nbins=3) \n",
    "yticks = ticker.MaxNLocator(3)\n",
    "\n",
    "plt.imshow(JSDivergenceMatrix, cmap=\"plasma_r\", extent=[acc[0]*accUnit/g, acc[-1]*accUnit/g, acc[-1]*accUnit/g, acc[0] *accUnit/g])\n",
    "indices_JS = np.where(JSDivergenceMatrix==0)\n",
    "plt.plot(AList[indices_JS[1]]*accUnit/g, AList[indices_JS[0]]*accUnit/g)\n",
    "plt.gca().invert_yaxis();\n",
    "plt.colorbar()\n",
    "plt.xlabel(\"Acceleration ($g$)\")\n",
    "plt.ylabel(\"Acceleration ($g$)\")\n",
    "plt.title(\"$V_L$ = \"+str(VList[int((VList.shape[0]-1)/2)])+\"$E_R$\")\n",
    "plt.grid(False)\n",
    "plt.savefig(\"JS_acc_longer.png\")"
   ]
  },
  {
   "cell_type": "code",
   "execution_count": null,
   "metadata": {},
   "outputs": [],
   "source": []
  }
 ],
 "metadata": {
  "kernelspec": {
   "display_name": "Research",
   "language": "python",
   "name": "python3"
  },
  "language_info": {
   "codemirror_mode": {
    "name": "ipython",
    "version": 3
   },
   "file_extension": ".py",
   "mimetype": "text/x-python",
   "name": "python",
   "nbconvert_exporter": "python",
   "pygments_lexer": "ipython3",
   "version": "3.11.4"
  }
 },
 "nbformat": 4,
 "nbformat_minor": 2
}
