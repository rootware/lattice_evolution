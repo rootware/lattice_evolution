{
 "cells": [
  {
   "cell_type": "markdown",
   "metadata": {},
   "source": [
    "## Imports"
   ]
  },
  {
   "cell_type": "code",
   "execution_count": 1,
   "metadata": {},
   "outputs": [],
   "source": [
    "import numpy as np;\n",
    "import matplotlib.pyplot as plt;\n",
    "import scipy.fft as fft;\n",
    "import Units\n",
    "from Sequence2param import Sequence2param;\n",
    "from datetime import datetime;"
   ]
  },
  {
   "cell_type": "markdown",
   "metadata": {},
   "source": [
    "Data imports"
   ]
  },
  {
   "cell_type": "code",
   "execution_count": 2,
   "metadata": {},
   "outputs": [],
   "source": [
    "#filepath = \"./Data/1param_acc_fig2/\";\n",
    "filepath = \"../SP_acc_multiparamBayesianpriors/\";\n",
    "filepath2 = \"../MP_acc_multiparamBayesianpriors/\";\n",
    "\n",
    "Seq1 = Sequence2param( filepath, generate=False);\n",
    "Seq2 = Sequence2param( filepath2, generate=False);\n"
   ]
  },
  {
   "cell_type": "markdown",
   "metadata": {},
   "source": [
    "### Plotting Comparison Between the Two"
   ]
  },
  {
   "cell_type": "code",
   "execution_count": 3,
   "metadata": {},
   "outputs": [],
   "source": [
    "plotPaV = Seq1.BayesianUpdating(500,5, 501, save_measurement=True)\n",
    "print(\"Onto next\\n\");\n",
    "now = datetime.now()\n",
    "\n",
    "current_time = now.strftime(\"%H:%M:%S\")\n",
    "print(\"Current Time =\", current_time)\n",
    "plotPaV2 = Seq2.BayesianUpdating(500,5, 501, save_measurement=True)"
   ]
  },
  {
   "cell_type": "code",
   "execution_count": null,
   "metadata": {},
   "outputs": [],
   "source": [
    "len(plotPaV)"
   ]
  },
  {
   "cell_type": "code",
   "execution_count": null,
   "metadata": {},
   "outputs": [],
   "source": [
    "Seq2.VList[int((Seq2.VList.shape[0]-1)/2)]"
   ]
  },
  {
   "cell_type": "code",
   "execution_count": null,
   "metadata": {},
   "outputs": [],
   "source": [
    "fig=plt.figure()\n",
    "fig.set_figheight(10);\n",
    "gs = fig.add_gridspec(4, 2, hspace=0.01, wspace=-0.)\n",
    "axs = gs.subplots(sharex='col', sharey='row')\n",
    "AList = Seq1.AList;\n",
    "VList = Seq2.VList;\n",
    "\n",
    "measure_points = np.array(range(20,60,10));\n",
    "\n",
    "for i in range(len(measure_points)):\n",
    "    ax = axs[i, 0];\n",
    "    im=ax.imshow(plotPaV[measure_points[i]], extent =[VList[0],VList[-1],AList[0],AList[-1]],  cmap = \"magma\" ,  aspect=50)\n",
    "\n",
    "    ax = axs[i, 1];\n",
    "    im=ax.imshow(plotPaV2[measure_points[i]],  extent =[VList[0],VList[-1],AList[0],AList[-1]], cmap = \"magma\" ,  aspect=50);\n",
    "\n",
    "for ax in fig.get_axes():\n",
    "    ax.label_outer()\n",
    "\n",
    "plt.show()"
   ]
  },
  {
   "cell_type": "code",
   "execution_count": null,
   "metadata": {},
   "outputs": [],
   "source": []
  }
 ],
 "metadata": {
  "kernelspec": {
   "display_name": "Research",
   "language": "python",
   "name": "python3"
  },
  "language_info": {
   "codemirror_mode": {
    "name": "ipython",
    "version": 3
   },
   "file_extension": ".py",
   "mimetype": "text/x-python",
   "name": "python",
   "nbconvert_exporter": "python",
   "pygments_lexer": "ipython3",
   "version": "3.11.4"
  }
 },
 "nbformat": 4,
 "nbformat_minor": 2
}
