{
 "cells": [
  {
   "cell_type": "code",
   "execution_count": 1,
   "metadata": {},
   "outputs": [],
   "source": [
    "import numpy as np;\n",
    "import matplotlib.pyplot as plt;"
   ]
  },
  {
   "cell_type": "code",
   "execution_count": 2,
   "metadata": {},
   "outputs": [],
   "source": [
    "data = np.loadtxt(\"test.txt\");\n",
    "datanew  = data[ np.lexsort((data[:,1],data[:,0])) ]"
   ]
  },
  {
   "cell_type": "code",
   "execution_count": null,
   "metadata": {},
   "outputs": [],
   "source": [
    "print(datanew)"
   ]
  },
  {
   "cell_type": "code",
   "execution_count": 3,
   "metadata": {},
   "outputs": [],
   "source": [
    "AVIndex=datanew[:,0:2]\n",
    "MomProb=datanew[:,4:]"
   ]
  },
  {
   "cell_type": "code",
   "execution_count": 4,
   "metadata": {},
   "outputs": [],
   "source": [
    "np.savetxt(\"AVIndex.txt\",AVIndex)"
   ]
  },
  {
   "cell_type": "code",
   "execution_count": 5,
   "metadata": {},
   "outputs": [],
   "source": [
    "np.savetxt(\"MomProb.txt\",MomProb)"
   ]
  },
  {
   "cell_type": "code",
   "execution_count": null,
   "metadata": {},
   "outputs": [],
   "source": [
    "x=[];\n",
    "for i in range(len(MomProb)):\n",
    "    x.append(np.sum(MomProb[i,:])-1.0)"
   ]
  },
  {
   "cell_type": "code",
   "execution_count": null,
   "metadata": {},
   "outputs": [],
   "source": [
    "momindices=np.where(AVIndex[:,1]==25)[0];\n",
    "print(momindices)\n",
    "datanew[momindices, 2]"
   ]
  },
  {
   "cell_type": "code",
   "execution_count": null,
   "metadata": {},
   "outputs": [],
   "source": [
    "datanew[momindices,3]"
   ]
  },
  {
   "cell_type": "code",
   "execution_count": 7,
   "metadata": {},
   "outputs": [],
   "source": [
    "action = np.array( [3,11,6,23,25,15,5,15,11,31,20,11,0,11,11,7,21,9,11,23,11,2,8,2,11,24,8,11,1,11])\n",
    "actionamplitude= action*np.pi/24.0"
   ]
  },
  {
   "cell_type": "code",
   "execution_count": 8,
   "metadata": {},
   "outputs": [
    {
     "name": "stdout",
     "output_type": "stream",
     "text": [
      "[0.39269908 1.43989663 0.78539816 3.01069296 3.27249235 1.96349541\n",
      " 0.65449847 1.96349541 1.43989663 4.05789051 2.61799388 1.43989663\n",
      " 0.         1.43989663 1.43989663 0.91629786 2.74889357 1.17809725\n",
      " 1.43989663 3.01069296 1.43989663 0.26179939 1.04719755 0.26179939\n",
      " 1.43989663 3.14159265 1.04719755 1.43989663 0.13089969 1.43989663]\n"
     ]
    }
   ],
   "source": [
    "print(actionamplitude)"
   ]
  },
  {
   "cell_type": "code",
   "execution_count": 1,
   "metadata": {},
   "outputs": [],
   "source": [
    "from Sequence2param import Sequence2param"
   ]
  },
  {
   "cell_type": "code",
   "execution_count": 4,
   "metadata": {},
   "outputs": [
    {
     "name": "stdout",
     "output_type": "stream",
     "text": [
      "\n",
      "        @save_measurement saves the generated outcomes so results can be replicated\n",
      "        \n"
     ]
    }
   ],
   "source": [
    "print(Sequence2param.BayesianUpdating.__doc__)"
   ]
  },
  {
   "cell_type": "code",
   "execution_count": null,
   "metadata": {},
   "outputs": [],
   "source": []
  }
 ],
 "metadata": {
  "kernelspec": {
   "display_name": "Research",
   "language": "python",
   "name": "python3"
  },
  "language_info": {
   "codemirror_mode": {
    "name": "ipython",
    "version": 3
   },
   "file_extension": ".py",
   "mimetype": "text/x-python",
   "name": "python",
   "nbconvert_exporter": "python",
   "pygments_lexer": "ipython3",
   "version": "3.11.4"
  }
 },
 "nbformat": 4,
 "nbformat_minor": 2
}
