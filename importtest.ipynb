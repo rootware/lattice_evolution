{
 "cells": [
  {
   "cell_type": "code",
   "execution_count": 1,
   "metadata": {},
   "outputs": [],
   "source": [
    "import numpy as np;\n",
    "import matplotlib.pyplot as plt;"
   ]
  },
  {
   "cell_type": "code",
   "execution_count": 2,
   "metadata": {},
   "outputs": [],
   "source": [
    "data = np.loadtxt(\"test.txt\");\n",
    "datanew  = data[ np.lexsort((data[:,1],data[:,0])) ]\n"
   ]
  },
  {
   "cell_type": "code",
   "execution_count": 3,
   "metadata": {},
   "outputs": [
    {
     "data": {
      "text/plain": [
       "array([[ 4.30e+01,  0.00e+00, -3.15e-03,  9.00e+00],\n",
       "       [ 4.60e+01,  0.00e+00, -1.80e-03,  9.00e+00],\n",
       "       [ 3.70e+01,  0.00e+00, -5.85e-03,  9.00e+00],\n",
       "       [ 1.20e+01,  0.00e+00, -1.71e-02,  9.00e+00],\n",
       "       [ 4.40e+01,  0.00e+00, -2.70e-03,  9.00e+00]])"
      ]
     },
     "execution_count": 3,
     "metadata": {},
     "output_type": "execute_result"
    }
   ],
   "source": [
    "data[0:5, 0:4]"
   ]
  },
  {
   "cell_type": "code",
   "execution_count": 4,
   "metadata": {},
   "outputs": [
    {
     "data": {
      "text/plain": [
       "array([[ 0.    ,  0.    , -0.0225,  9.    ],\n",
       "       [ 0.    ,  1.    , -0.0225,  9.04  ],\n",
       "       [ 0.    ,  2.    , -0.0225,  9.08  ],\n",
       "       [ 0.    ,  3.    , -0.0225,  9.12  ],\n",
       "       [ 0.    ,  4.    , -0.0225,  9.16  ]])"
      ]
     },
     "execution_count": 4,
     "metadata": {},
     "output_type": "execute_result"
    }
   ],
   "source": [
    "datanew[0:5, 0:4]"
   ]
  },
  {
   "cell_type": "code",
   "execution_count": 5,
   "metadata": {},
   "outputs": [],
   "source": [
    "AVIndex=datanew[:,0:2]\n",
    "MomProb=datanew[:,4:]"
   ]
  },
  {
   "cell_type": "code",
   "execution_count": 6,
   "metadata": {},
   "outputs": [
    {
     "data": {
      "text/plain": [
       "array([5.00000000e+01, 2.50000000e+01, 0.00000000e+00, 1.00000000e+01,\n",
       "       6.70021128e-04, 1.49843077e-02, 1.05209344e-02, 6.38614046e-02,\n",
       "       3.00557747e-01, 2.58956241e-01, 3.39602103e-02, 1.06921283e-01,\n",
       "       2.01417514e-01, 7.48016213e-03, 6.70175240e-04])"
      ]
     },
     "execution_count": 6,
     "metadata": {},
     "output_type": "execute_result"
    }
   ],
   "source": [
    "datanew[50*51+25,:]"
   ]
  },
  {
   "cell_type": "code",
   "execution_count": 6,
   "metadata": {},
   "outputs": [],
   "source": [
    "np.savetxt(\"AVIndex.txt\",AVIndex)"
   ]
  },
  {
   "cell_type": "code",
   "execution_count": 7,
   "metadata": {},
   "outputs": [],
   "source": [
    "np.savetxt(\"MomProb.txt\",MomProb)"
   ]
  },
  {
   "cell_type": "code",
   "execution_count": null,
   "metadata": {},
   "outputs": [],
   "source": [
    "AVIndex"
   ]
  },
  {
   "cell_type": "code",
   "execution_count": null,
   "metadata": {},
   "outputs": [],
   "source": [
    "x=[];\n",
    "for i in range(len(MomProb)):\n",
    "    x.append(np.sum(MomProb[i,:])-1.0)"
   ]
  },
  {
   "cell_type": "code",
   "execution_count": null,
   "metadata": {},
   "outputs": [],
   "source": [
    "plt.plot(x);"
   ]
  },
  {
   "cell_type": "code",
   "execution_count": 11,
   "metadata": {},
   "outputs": [
    {
     "data": {
      "text/plain": [
       "array([5.00000000e+01, 0.00000000e+00, 3.13278139e-04, 1.00199808e-02,\n",
       "       4.02486714e-03, 1.11524926e-01, 2.11285885e-01, 2.53839817e-01,\n",
       "       3.77708799e-02, 2.14249787e-01, 1.40336302e-01, 1.64093832e-02,\n",
       "       2.24894319e-04])"
      ]
     },
     "execution_count": 11,
     "metadata": {},
     "output_type": "execute_result"
    }
   ],
   "source": [
    "datanew[51*50,:]"
   ]
  },
  {
   "cell_type": "code",
   "execution_count": null,
   "metadata": {},
   "outputs": [],
   "source": []
  }
 ],
 "metadata": {
  "kernelspec": {
   "display_name": "Research",
   "language": "python",
   "name": "python3"
  },
  "language_info": {
   "codemirror_mode": {
    "name": "ipython",
    "version": 3
   },
   "file_extension": ".py",
   "mimetype": "text/x-python",
   "name": "python",
   "nbconvert_exporter": "python",
   "pygments_lexer": "ipython3",
   "version": "3.11.4"
  }
 },
 "nbformat": 4,
 "nbformat_minor": 2
}
