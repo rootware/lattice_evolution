{
 "cells": [
  {
   "cell_type": "markdown",
   "metadata": {},
   "source": [
    "## Imports"
   ]
  },
  {
   "cell_type": "code",
   "execution_count": 1,
   "metadata": {},
   "outputs": [
    {
     "name": "stdout",
     "output_type": "stream",
     "text": [
      "8.741823036075946\n"
     ]
    }
   ],
   "source": [
    "import numpy as np;\n",
    "import matplotlib.pyplot as plt;\n",
    "import seaborn as sns;\n",
    "import seaborn.objects as so;\n",
    "import Units\n",
    "sns.set_theme()"
   ]
  },
  {
   "cell_type": "markdown",
   "metadata": {},
   "source": [
    "New data imports"
   ]
  },
  {
   "cell_type": "code",
   "execution_count": 2,
   "metadata": {},
   "outputs": [],
   "source": [
    "filepath = \"../\";\n",
    "\n",
    "data = np.loadtxt(filepath + \"test.txt\");\n",
    "datanew  = data[ np.lexsort((data[:,1],data[:,0])) ]\n",
    "\n",
    "AList= np.unique(datanew[:, 2])\n",
    "VList = np.unique(datanew[:,3])\n",
    "\n",
    "#AList = np.loadtxt(\"./Data/2param_acc_Option2/Acceleration.txt\");\n",
    "#VList = np.loadtxt(\"./Data/2param_acc_Option2/LatticeDepth.txt\");\n",
    "AVIndex=datanew[:,0:2]\n",
    "MomProbdata=datanew[:,4:] #may depend on file, please check\n",
    "#np.savetxt(filepath + \"AVIndex.txt\",AVIndex)\n",
    "#np.savetxt(filepath + \"MomProb.txt\",MomProbdata) \n",
    "\n",
    "#AVListIndex = np.loadtxt(filepath + \"AVIndex.txt\", dtype = int);\n",
    "#MomProb = np.loadtxt(filepath +  \"MomProb.txt\"); # np array with rows containing momentum probabilities for each [a,V] value pair in AVList\n",
    "AVListIndex = AVIndex.astype(int);\n",
    "MomProb = MomProbdata;"
   ]
  },
  {
   "cell_type": "markdown",
   "metadata": {},
   "source": [
    "## Defining preliminary probabilities\n",
    "- Define central values for acc and Lattice depth $(a_0,V_0)$ and corresponding _actual probability distirbution_ $P(p|a_0,V_0)$. .\n",
    "- Import all other pairs of $(a,V)$ and their corresponding probabilitiy distributions $P(p|a,V)$ generated using the learned shaking sequence for $(a_0,V_0)$. "
   ]
  },
  {
   "cell_type": "code",
   "execution_count": 3,
   "metadata": {},
   "outputs": [],
   "source": [
    "PossibleMomentumOutcomes =np.array( [-10+2*i for i in range(0,11)]); # values of momentum in n\\hbar k_L\n",
    "PossibleOutcomes = range(0,11);\n",
    "\n",
    "\n",
    "a0= 0.0; V0= 0.0;\n",
    "P_actual= MomProb[int((AList.shape[0]-1)/2),:]\n",
    "#P_actual=MomProb[250];\n",
    "# This part of code is only for adding errors\n",
    "epsilon = 0.0;\n",
    "P_error = np.array( [ 0.00158886 ,  0.0289448  , 0.0129811 ,    0.17899  ,  0.028321,   0.0413507  ,  0.559008  , 0.0504661 ,  0.0788694  , 0.0194702 ,9.67359e-06]);\n",
    "\n",
    "# This part of code is only for adding error terms\n",
    "P_simulated=P_actual# + epsilon*P_error;\n",
    "\n",
    "P_actual=P_actual/np.sum(P_actual);\n",
    "P_simulated=P_simulated/np.sum(P_simulated);"
   ]
  },
  {
   "cell_type": "markdown",
   "metadata": {},
   "source": [
    "Generate samples from the $(a_0,V_0)$ probability distribution or load from data"
   ]
  },
  {
   "cell_type": "code",
   "execution_count": 8,
   "metadata": {},
   "outputs": [],
   "source": [
    "Runs=2000; # How many simulated data do we want\n",
    "outcomes = np.random.default_rng().choice(PossibleOutcomes,size=Runs, p = P_simulated);\n",
    "unique, frequency = np.unique(outcomes, return_counts = True);\n",
    "#np.savetxt(\"Runs_5000.txt\", outcomes)"
   ]
  },
  {
   "cell_type": "code",
   "execution_count": null,
   "metadata": {},
   "outputs": [],
   "source": [
    "Runs = 25000;\n",
    "outcomes = np.loadtxt(\"../Data/Rust_Runs/Option2_only_acc_Bayesian/\" + \"Runs_25000.txt\").astype(np.int64);\n",
    "unique, frequency = np.unique(outcomes, return_counts = True);"
   ]
  },
  {
   "cell_type": "markdown",
   "metadata": {},
   "source": [
    "Check that the generated distribution does match actual probabilities $P(p|a_0,V_0)$."
   ]
  },
  {
   "cell_type": "code",
   "execution_count": null,
   "metadata": {},
   "outputs": [],
   "source": [
    "ax=plt.gca();\n",
    "ax.hist(outcomes,  density = True,stacked = True, bins = np.arange(-1.5,11.5));\n",
    "ax.plot(PossibleOutcomes, P_actual, 'x-');"
   ]
  },
  {
   "cell_type": "markdown",
   "metadata": {},
   "source": [
    "## Bayesian Updating (edited to prob mean)"
   ]
  },
  {
   "cell_type": "code",
   "execution_count": null,
   "metadata": {},
   "outputs": [],
   "source": [
    "PaVprior = np.full(AList.size,1)/(AList.size);\n",
    "np.sum(PaVprior)\n",
    "\n",
    "stdTimeprob=[];\n",
    "meanTime=[];\n",
    "plotPaV=np.array([PaVprior]);\n",
    "\n",
    "counter =0;\n",
    "for m in outcomes:\n",
    "    for i in range(AList.size):\n",
    "        indexpair = AVListIndex[i];\n",
    "        MomentumProbabilities = MomProb[i];\n",
    "\n",
    "        PaVprior[indexpair[0]] *= (MomentumProbabilities[m])\n",
    "        PaVprior/=np.sum(PaVprior)\n",
    "\n",
    "    counter+=1;\n",
    "    if counter % 50 == 0:\n",
    "        plotPaV=np.append(plotPaV,[PaVprior], axis=0); \n",
    "    \n",
    "\n",
    "    \n",
    "    mean = np.dot(AList, PaVprior)#bayesian mean\n",
    "    truemean= AList[int((AList.shape[0]-1)/2)]# 0.0;#true mean\n",
    "    sq = np.dot (np.power(AList, 2), PaVprior)\n",
    "    meanTime.append(mean);\n",
    "    stdTimeprob.append(np.sqrt( sq- mean**2));# true mean or bayesian mean"
   ]
  },
  {
   "cell_type": "markdown",
   "metadata": {},
   "source": [
    "## Bayesian updating for true mean"
   ]
  },
  {
   "cell_type": "code",
   "execution_count": null,
   "metadata": {},
   "outputs": [],
   "source": [
    "PaVprior = np.full(AList.size,1)/(AList.size);\n",
    "np.sum(PaVprior)\n",
    "\n",
    "stdTimetrue=[];\n",
    "meanTime=[];\n",
    "plotPaV=np.array([PaVprior]);\n",
    "\n",
    "counter =0;\n",
    "for m in outcomes:\n",
    "    for i in range(AList.size):\n",
    "        indexpair = AVListIndex[i];\n",
    "        MomentumProbabilities = MomProb[i];\n",
    "\n",
    "        PaVprior[indexpair[0]] *= (MomentumProbabilities[m])\n",
    "        PaVprior/=np.sum(PaVprior)\n",
    "\n",
    "    counter+=1;\n",
    "    if counter % 50 == 0:\n",
    "        plotPaV=np.append(plotPaV,[PaVprior], axis=0); \n",
    "    \n",
    "\n",
    "    \n",
    "    mean = np.dot(AList, PaVprior)#bayesian mean\n",
    "    truemean= AList[int((AList.shape[0]-1)/2)]# 0.0;#true mean\n",
    "    sq = np.dot (np.power(AList, 2), PaVprior)\n",
    "    meanTime.append(mean);\n",
    "    stdTimetrue.append(np.sqrt( sq- truemean**2));# true mean or bayesian mean"
   ]
  },
  {
   "cell_type": "markdown",
   "metadata": {},
   "source": [
    "## Both"
   ]
  },
  {
   "cell_type": "code",
   "execution_count": 9,
   "metadata": {},
   "outputs": [],
   "source": [
    "PaVprior = np.full(AList.size,1)/(AList.size);\n",
    "np.sum(PaVprior)\n",
    "\n",
    "stdTimetrue=[];\n",
    "stdTimeprob=[];\n",
    "meanTime=[];\n",
    "plotPaV=np.array([PaVprior]);\n",
    "\n",
    "counter =0;\n",
    "for m in outcomes:\n",
    "    for i in range(AList.size):\n",
    "        indexpair = AVListIndex[i];\n",
    "        MomentumProbabilities = MomProb[i];\n",
    "\n",
    "        PaVprior[indexpair[0]] *= (MomentumProbabilities[m])\n",
    "        PaVprior/=np.sum(PaVprior)\n",
    "\n",
    "    counter+=1;\n",
    "    if counter % 1 == 0:\n",
    "        plotPaV=np.append(plotPaV,[PaVprior], axis=0); \n",
    "    \n",
    "\n",
    "    \n",
    "    mean = np.dot(AList, PaVprior)#bayesian mean\n",
    "    truemean= AList[int((AList.shape[0]-1)/2)]# 0.0;#true mean\n",
    "    sq = np.dot (np.power(AList, 2), PaVprior)\n",
    "    meanTime.append(mean);\n",
    "    stdTimeprob.append(np.sqrt( sq- mean**2));# true mean or bayesian mean\n",
    "    stdTimetrue.append(np.sqrt( sq- truemean**2));# true mean or bayesian mean"
   ]
  },
  {
   "cell_type": "markdown",
   "metadata": {},
   "source": [
    "## Plotting"
   ]
  },
  {
   "cell_type": "code",
   "execution_count": null,
   "metadata": {},
   "outputs": [],
   "source": [
    "n_p =4; T= 32*np.pi/11.5; print(T)\n",
    "F_MZ = (4*n_p *(T/2)**2)**2\n",
    "Iaa=1.701*F_MZ"
   ]
  },
  {
   "cell_type": "code",
   "execution_count": null,
   "metadata": {},
   "outputs": [],
   "source": [
    "plt.loglog(range(1, len(outcomes)+1),np.array(stdTimeprob)*Units.accUnit/Units.g, label = \"$\\langle a \\\\rangle$\")\n",
    "plt.loglog(range(1, len(outcomes)+1),np.array(stdTimetrue)*Units.accUnit/Units.g, label = \"$\\mu=0.0$\")\n",
    "\n",
    "Iaa_norm = Iaa/((Units.accUnit/Units.g)**2)\n",
    "x=np.array( range(1, len(outcomes)+1));\n",
    "y= 1/np.sqrt(x*Iaa_norm)\n",
    "plt.loglog(x,y, label=\"CR Bound\")\n",
    "#plt.loglog(x, np.ones(len(x))*0.0005, '--',label=\"dyn range\")\n",
    "plt.xlabel(\"No. of Measurements $|\\{m_i\\}|$\");\n",
    "plt.ylabel(\"$\\sigma_a (g)$\")\n",
    "plt.title(\"1p $\\sigma_a$ with successive measurements $\\{m_i\\}$\")\n",
    "plt.grid('both')\n",
    "plt.legend()\n",
    "#plt.savefig(\"stddev_prob_combined.pdf\")"
   ]
  },
  {
   "cell_type": "code",
   "execution_count": null,
   "metadata": {},
   "outputs": [],
   "source": [
    "plt.loglog(range(1, len(outcomes)+1-4000),np.array(stdTimeprob[:-4000])*Units.accUnit/Units.g, label = \"$\\langle a^2 \\\\rangle- |\\langle a \\\\rangle|^2$\")\n",
    "#plt.loglog(range(1, len(outcomes)+1),np.array(stdTimetrue)*Units.accUnit/Units.g, label = \"$\\mu=0.0$\")\n",
    "\n",
    "Iaa_norm = Iaa/((Units.accUnit/Units.g)**2)\n",
    "x=np.array( range(1, len(outcomes)+1));\n",
    "y= 1/np.sqrt(x*Iaa_norm)\n",
    "plt.loglog(x,y, label=\"CR Bound\")\n",
    "#plt.loglog(x, np.ones(len(x))*0.0005, '--',label=\"dyn range\")\n",
    "plt.xlabel(\"No. of Measurements $|\\{m_i\\}|$\");\n",
    "plt.ylabel(\"$\\sigma_a (g)$\")\n",
    "plt.title(\"1p $\\sigma_a$ with successive measurements $\\{m_i\\}$\")\n",
    "plt.grid('both')\n",
    "plt.legend()\n",
    "#plt.savefig(\"stddev_prob_combined.pdf\")"
   ]
  },
  {
   "cell_type": "code",
   "execution_count": null,
   "metadata": {},
   "outputs": [],
   "source": [
    "plt.loglog(range(1, len(outcomes)+1-4000),np.array(stdTimeprob[:-4000]), label = \"$\\langle a^2 \\\\rangle- |\\langle a^2 \\\\rangle|^2$\")\n",
    "#plt.loglog(range(1, len(outcomes)+1),np.array(stdTimetrue)*Units.accUnit/Units.g, label = \"$\\mu=0.0$\")\n",
    "\n",
    "Iaa_norm = Iaa\n",
    "x=np.array( range(1, len(outcomes)+1));\n",
    "y= 1/np.sqrt(x*Iaa_norm)\n",
    "plt.loglog(x,y, label=\"CR Bound\")\n",
    "#plt.loglog(x, np.ones(len(x))*0.0005, '--',label=\"dyn range\")\n",
    "plt.xlabel(\"No. of Measurements $|\\{m_i\\}|$\");\n",
    "plt.ylabel(\"$\\sigma_a (\\omega v_r)$\")\n",
    "plt.title(\"1p $\\sigma_a$ with successive measurements $\\{m_i\\}$\")\n",
    "plt.grid('both')\n",
    "plt.legend()\n",
    "#plt.savefig(\"stddev_prob_combined.pdf\")"
   ]
  },
  {
   "cell_type": "markdown",
   "metadata": {},
   "source": [
    "in code units\n"
   ]
  },
  {
   "cell_type": "code",
   "execution_count": null,
   "metadata": {},
   "outputs": [],
   "source": [
    "ax= plt.gca();\n",
    "plotrange= [1,2,5,40, ]\n",
    "for i in plotrange:\n",
    "    plt.plot(AList*Units.accUnit/Units.g,plotPaV[i], 'x-',label=str(i*50),);\n",
    "plt.tight_layout()\n",
    "plt.xlabel(\"$a (g)$\")\n",
    "plt.ylabel(\"$P(a,V_0=10.0|m)$\")\n",
    "plt.title(\"$P(a,V_0=10.0|m)$ being updated with measurements\")\n",
    "plt.grid('both')\n",
    "plt.xlim(-0.002*Units.accUnit/Units.g,0.002*Units.accUnit/Units.g)\n",
    "plt.locator_params(axis='x', nbins=5) \n",
    "plt.legend(title=\"$|\\{m_i\\}|$\")\n",
    "\n",
    "#plt.savefig(\"zoomedinacc.pdf\");\n",
    "plt.show();"
   ]
  },
  {
   "cell_type": "code",
   "execution_count": null,
   "metadata": {},
   "outputs": [],
   "source": [
    "x = np.log(range(200, len(stdTimeprob)+1))\n",
    "y = np.log(np.array(stdTimeprob[ 199:]));\n",
    "\n",
    "(m,b), (SSE,),*_ =np.polyfit(x, y, deg=1, full=True)\n",
    "print(m,b)\n",
    "plt.plot(x,y, label=\"data\")\n",
    "\n",
    "plt.plot(x,m*x+b, label=\"fit\")\n",
    "plt.xlabel('log(N_m)')\n",
    "plt.ylabel(\"log(\\sigma_a)\")\n",
    "plt.legend()\n",
    "plt.title(\"Fitting sensitivities to extract CFI\")\n",
    "plt.grid(True)\n",
    "#plt.savefig('Fitsens_probmean.pdf')\n"
   ]
  },
  {
   "cell_type": "code",
   "execution_count": null,
   "metadata": {},
   "outputs": [],
   "source": [
    "cfibayesian = np.exp(-2*b)\n",
    "print(cfibayesian)\n",
    "n_p =4; T= 32*np.pi/11.5; print(T)\n",
    "F_MZ = (2*n_p *T**2)**2/4\n",
    "print(cfibayesian/F_MZ)"
   ]
  },
  {
   "cell_type": "code",
   "execution_count": null,
   "metadata": {},
   "outputs": [],
   "source": [
    "#np.savetxt(\"CFI_25000_probmea.txt\", np.array([cfibayesian/F_MZ]))"
   ]
  },
  {
   "cell_type": "code",
   "execution_count": null,
   "metadata": {},
   "outputs": [],
   "source": [
    "plt.plot(range(1, len(outcomes)+1),np.array(meanTime)*Units.accUnit/Units.g)\n",
    "plt.plot(range(1, len(outcomes)+1), np.ones(len(outcomes))*AList[int((AList.shape[0]-1)/2)]*Units.accUnit/Units.g)"
   ]
  },
  {
   "cell_type": "code",
   "execution_count": null,
   "metadata": {},
   "outputs": [],
   "source": [
    "plt.loglog(range(1, len(outcomes)+1),np.abs(np.array(meanTime)*Units.accUnit/Units.g))\n",
    "plt.loglog(x,y, label=\"CR Bound\")\n",
    "plt.loglog(x, np.ones(len(x))*0.0005, '--',label=\"dyn range\")\n",
    "plt.ylabel(\"$\\log(|<a(g)>-\\mu=0.0|)$\")\n",
    "plt.xlabel(\"$\\log(N_m)$\")\n",
    "#plt.savefig(\"Residuals.pdf\")"
   ]
  },
  {
   "cell_type": "code",
   "execution_count": null,
   "metadata": {},
   "outputs": [],
   "source": [
    "fig, (ax1, ax2) = plt.subplots(2,1 ,figsize=(8, 8))\n",
    "\n",
    "ax1.loglog(range(1, len(outcomes)+1),np.array(stdTimeprob)*Units.accUnit/Units.g, label = \"$\\langle a \\\\rangle$\")\n",
    "ax1.loglog(range(1, len(outcomes)+1),np.array(stdTimetrue)*Units.accUnit/Units.g, label = \"$\\mu=0.0$\")\n",
    "\n",
    "Iaa_norm = Iaa/((Units.accUnit/Units.g)**2)\n",
    "x=np.array( range(1, len(outcomes)+1));\n",
    "y= 1/np.sqrt(x*Iaa_norm)\n",
    "ax1.loglog(x,y, label=\"CR Bound\")\n",
    "ax1.loglog(x, np.ones(len(x))*0.0005, '--',label=\"dyn range\")\n",
    "\n",
    "\n",
    "ax1.set_xlabel(\"No. of Measurements $|\\{m_i\\}|$\");\n",
    "ax1.set_ylabel(\"$\\sigma_a (g)$\")\n",
    "ax1.set_title(\"1p $\\sigma_a$ with successive measurements $\\{m_i\\}$\")\n",
    "ax1.grid('both')\n",
    "ax1.legend()\n",
    "#plt.savefig(\"stddev.png\")\n",
    "\n",
    "plotrange= [1,2,5,10,40, 100]\n",
    "for i in plotrange:\n",
    "    ax2.plot(AList*Units.accUnit/Units.g,plotPaV[i], '-',label=str(i*50),);\n",
    "ax2.set_xlabel(\"$a (g)$\")\n",
    "ax2.set_ylabel(\"$P(a,V_0=10.0|m)$\")\n",
    "ax2.set_title(\"$P(a,V_0=10.0|m)$ being updated with measurements\")\n",
    "ax2.grid('both')\n",
    "ax2.set_xlim(-0.005*Units.accUnit/Units.g,0.005*Units.accUnit/Units.g)\n",
    "ax2.locator_params(axis='x', nbins=5) \n",
    "ax2.legend(title=\"$|\\{m_i\\}|$\")\n",
    "\n",
    "fig.tight_layout(pad=3.0)\n",
    "plt.savefig(\"Option2_1onlyacc_Bayesian.pdf\")"
   ]
  },
  {
   "cell_type": "code",
   "execution_count": null,
   "metadata": {},
   "outputs": [],
   "source": [
    "fig, (ax1, ax2) = plt.subplots(2,1 ,figsize=(8, 8))\n",
    "\n",
    "ax1.loglog(range(1, len(outcomes)+1-4000),np.array(stdTimeprob[:-4000]), label = \"$\\langle a^2 \\\\rangle- |\\langle a \\\\rangle|^2$\")\n",
    "#ax1.loglog(range(1, len(outcomes)+1),np.array(stdTimetrue)*Units.accUnit/Units.g, label = \"$\\mu=0.0$\")\n",
    "\n",
    "Iaa_norm = Units.Iaa\n",
    "x=np.array( range(1, len(outcomes)+1));\n",
    "y= 1/np.sqrt(x*Iaa_norm)\n",
    "ax1.loglog(x,y, label=\"CR Bound\")\n",
    "ax1.loglog(x, np.ones(len(x))*0.0005, '--',label=\"dyn range\")\n",
    "\n",
    "\n",
    "ax1.set_xlabel(\"No. of Measurements $|\\{m_i\\}|$\");\n",
    "ax1.set_ylabel(\"$\\sigma_a (\\omega_r v_r)$\")\n",
    "ax1.set_title(\"1p $\\sigma_a$ with successive measurements $\\{m_i\\}$\")\n",
    "ax1.grid('both')\n",
    "ax1.legend()\n",
    "#plt.savefig(\"stddev.png\")\n",
    "\n",
    "plotrange= [1,2,5,10,40, 100]\n",
    "for i in plotrange:\n",
    "    ax2.plot(AList,plotPaV[i], '-',label=str(i*50),);\n",
    "ax2.set_xlabel(\"$a (\\omega_r v_r)$\")\n",
    "ax2.set_ylabel(\"$P(a,V_0=10.0|m)$\")\n",
    "ax2.set_title(\"$P(a,V_0=10.0|m)$ being updated with measurements\")\n",
    "ax2.grid('both')\n",
    "ax2.set_xlim(-0.003,0.003)\n",
    "ax2.locator_params(axis='x', nbins=5) \n",
    "ax2.legend(title=\"$|\\{m_i\\}|$\")\n",
    "\n",
    "fig.tight_layout(pad=3.0)\n",
    "#plt.savefig(\"Option2_1onlyacc_Bayesiancodeunits.pdf\")"
   ]
  },
  {
   "cell_type": "code",
   "execution_count": 19,
   "metadata": {},
   "outputs": [
    {
     "name": "stdout",
     "output_type": "stream",
     "text": [
      "8.741823036075946\n"
     ]
    },
    {
     "name": "stderr",
     "output_type": "stream",
     "text": [
      "/tmp/ipykernel_49943/217378441.py:14: UserWarning: Attempt to set non-positive xlim on a log-scaled axis will be ignored.\n",
      "  ax1.set_xlim(0,2000)\n"
     ]
    },
    {
     "data": {
      "image/png": "[encoded data removed]",
      "text/plain": [
       "<Figure size 800x800 with 2 Axes>"
      ]
     },
     "metadata": {},
     "output_type": "display_data"
    }
   ],
   "source": [
    "fig, (ax1, ax2) = plt.subplots(2,1 ,figsize=(8, 8))\n",
    "\n",
    "ax1.loglog(range(1, len(outcomes)+1),np.array(stdTimeprob)*Units.accUnit/Units.g, 'x',label = \"$\\sqrt{\\langle a^2 \\\\rangle- |\\langle a \\\\rangle|^2}$\")\n",
    "ax1.loglog(range(1, len(outcomes)+1),np.array(stdTimetrue)*Units.accUnit/Units.g, label = \"$\\sqrt{\\langle a^2 \\\\rangle}$\")\n",
    "n_p =4; T= 32*np.pi/11.5; print(T)\n",
    "F_MZ = (4*n_p *(T/2)**2)**2\n",
    "Iaa=1.701*F_MZ\n",
    "\n",
    "Iaa_norm = Iaa/(Units.accUnit/Units.g)**2\n",
    "x=np.array( range(1, len(outcomes)+1));\n",
    "y= 1/np.sqrt(x*Iaa_norm)\n",
    "ax1.loglog(x,y, label=\"CR Bound\")\n",
    "#ax1.loglog(x, np.ones(len(x))*0.0005, '--',label=\"dyn range\")\n",
    "ax1.set_xlim(0,2000)\n",
    "\n",
    "ax1.set_xlabel(\"No. of Measurements $|\\{m_i\\}|$\");\n",
    "ax1.set_ylabel(\"$\\sigma_a (g)$\")\n",
    "ax1.set_title(\"1p $\\sigma_a$ with successive measurements $\\{m_i\\}$\")\n",
    "ax1.grid('both')\n",
    "ax1.legend()\n",
    "#plt.savefig(\"stddev.png\")\n",
    "\n",
    "plotrange= [1,20,50,100,500, 2000]\n",
    "for i in plotrange:\n",
    "    ax2.plot(AList*Units.accUnit/Units.g,plotPaV[i]*Units.g/Units.accUnit, '-',label=str(i*1),);\n",
    "ax2.set_xlabel(\"$a (g)$\")\n",
    "ax2.set_ylabel(\"$P(a,V_0=10.0|m)$\")\n",
    "ax2.set_title(\"$P(a,V_0=10.0|m)$ being updated with measurements\")\n",
    "ax2.grid('both')\n",
    "#ax2.set_xlim(-0.01,0.01)\n",
    "ax2.locator_params(axis='x', nbins=5) \n",
    "ax2.legend(title=\"$|\\{m_i\\}|$\")\n",
    "\n",
    "fig.tight_layout(pad=3.0)\n",
    "plt.savefig(\"Option2_1onlyacc_Outcomes2000_Run3.pdf\")"
   ]
  },
  {
   "cell_type": "code",
   "execution_count": 17,
   "metadata": {},
   "outputs": [],
   "source": [
    "np.savetxt(\"Outcomes_2000_Run3.txt\", outcomes)"
   ]
  },
  {
   "cell_type": "code",
   "execution_count": null,
   "metadata": {},
   "outputs": [],
   "source": [
    "range = 0.01;\n",
    "(2*range/1000)*Units.accUnit/Units.g"
   ]
  },
  {
   "cell_type": "markdown",
   "metadata": {},
   "source": [
    "You should expect errors around this margin"
   ]
  },
  {
   "cell_type": "code",
   "execution_count": null,
   "metadata": {},
   "outputs": [],
   "source": [
    "np.sqrt( np.dot(plotPaV[5],np.power(AList,2)))"
   ]
  },
  {
   "cell_type": "code",
   "execution_count": null,
   "metadata": {},
   "outputs": [],
   "source": []
  }
 ],
 "metadata": {
  "kernelspec": {
   "display_name": "Research",
   "language": "python",
   "name": "python3"
  },
  "language_info": {
   "codemirror_mode": {
    "name": "ipython",
    "version": 3
   },
   "file_extension": ".py",
   "mimetype": "text/x-python",
   "name": "python",
   "nbconvert_exporter": "python",
   "pygments_lexer": "ipython3",
   "version": "3.11.4"
  }
 },
 "nbformat": 4,
 "nbformat_minor": 2
}
