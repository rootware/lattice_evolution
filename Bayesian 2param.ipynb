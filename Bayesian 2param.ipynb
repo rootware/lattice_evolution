{
 "cells": [
  {
   "cell_type": "markdown",
   "metadata": {},
   "source": [
    "## Imports"
   ]
  },
  {
   "cell_type": "code",
   "execution_count": 6,
   "metadata": {},
   "outputs": [],
   "source": [
    "import numpy as np;\n",
    "import matplotlib.pyplot as plt;\n",
    "import scipy.fft as fft;"
   ]
  },
  {
   "cell_type": "markdown",
   "metadata": {},
   "source": [
    "Data imports"
   ]
  },
  {
   "cell_type": "code",
   "execution_count": null,
   "metadata": {},
   "outputs": [],
   "source": [
    "filepath = \"./2param_acc_Option2/\";\n",
    "AList = np.loadtxt(filepath + \"Acceleration.txt\");\n",
    "VList = np.loadtxt(filepath + \"LatticeDepth.txt\");\n",
    "\n",
    "AVListIndex = np.loadtxt(\"AVIndex.txt\", dtype = int);\n",
    "MomProb = np.loadtxt( \"MomProb.txt\"); # np array with rows containing momentum probabilities for each [a,V] value pair in AVList\n",
    "MomProb2 = np.loadtxt( \"2param_acc_Option2/MomentumProbability.txt\");"
   ]
  },
  {
   "cell_type": "code",
   "execution_count": null,
   "metadata": {},
   "outputs": [],
   "source": [
    "print(AList[50], VList[25])\n",
    "datamom =np.reshape(MomProb, (AList.size,VList.size,11));\n",
    "datamom2 =np.reshape(MomProb2, (AList.size,VList.size,11));\n",
    "\n",
    "print(datamom[50,25,:])\n",
    "print(datamom2[50,25,:])"
   ]
  },
  {
   "cell_type": "markdown",
   "metadata": {},
   "source": [
    "## Units"
   ]
  },
  {
   "cell_type": "code",
   "execution_count": null,
   "metadata": {},
   "outputs": [],
   "source": [
    "#Lambda = 852*10**(-9);\n",
    "Lambda = 1064*10**(-9);\n",
    "k_L = 2*np.pi / Lambda;\n",
    "hbar = 1.054571817*10**(-34);\n",
    "atomicmass = 86.90918;\n",
    "massDalton = 1.660539*10**(-27);\n",
    "mass = atomicmass * massDalton;\n",
    "E_R = (hbar * k_L)**2 /(2*mass);\n",
    "g=9.81;\n",
    "accUnit= 2*(E_R)**2/(hbar**2*k_L);"
   ]
  },
  {
   "cell_type": "code",
   "execution_count": null,
   "metadata": {},
   "outputs": [],
   "source": [
    "codeacc = 0.025;\n",
    "realacc = codeacc*accUnit"
   ]
  },
  {
   "cell_type": "code",
   "execution_count": null,
   "metadata": {},
   "outputs": [],
   "source": [
    "realacc = 0.125*9.81;\n",
    "codeacc = realacc/accUnit\n",
    "print(codeacc)"
   ]
  },
  {
   "cell_type": "code",
   "execution_count": null,
   "metadata": {},
   "outputs": [],
   "source": [
    "PossibleMomentumOutcomes =np.array( [-10+2*i for i in range(0,11)]); # values of momentum in n\\hbar k_L\n",
    "PossibleOutcomes = range(0,11);\n",
    "\n",
    "\n",
    "a0= 0.0; V0= 0.0;\n",
    "P_actual=np.array(datamom[50,25,:]);\n",
    "\n",
    "P_actual=P_actual/np.sum(P_actual);\n",
    "P_simulated = P_actual; #No errors\n"
   ]
  },
  {
   "cell_type": "markdown",
   "metadata": {},
   "source": [
    "### Plotting Momentum Fringes in $(a,V_0)$"
   ]
  },
  {
   "cell_type": "code",
   "execution_count": null,
   "metadata": {},
   "outputs": [],
   "source": [
    "fig=plt.figure(figsize=(10,10))\n",
    "gs = fig.add_gridspec(4, 3, hspace=0.2, wspace=0)\n",
    "axs = gs.subplots(sharex='col', sharey='row')\n",
    "axs[-1,-1].axis(\"off\");\n",
    "\n",
    "minn = np.min(MomProb);\n",
    "maxx = np.max(MomProb);\n",
    "for i in range(11):\n",
    "    ax = axs[i//3, i% 3];\n",
    "    im=ax.imshow(np.reshape(MomProb[:,i], (AList.size,VList.size)), cmap=\"magma\",extent =[VList[0],VList[-1],AList[0],AList[-1]], aspect=50, vmin=minn, vmax = maxx, label=str(2*i-10)+\"$\\hbar k_L$\")\n",
    "\n",
    "\n",
    "    ax.set_title(str(-10+2*i)+\"$\\hbar k_L$\")\n",
    "    ax.set_xlabel(\"V0\")\n",
    "    ax.set_ylabel(\"a\")\n",
    "\n",
    "fig.colorbar(im,  orientation='vertical')\n",
    "\n",
    "\n",
    "for ax in fig.get_axes():\n",
    "    ax.label_outer()\n",
    "\n",
    "plt.show()"
   ]
  },
  {
   "cell_type": "code",
   "execution_count": null,
   "metadata": {},
   "outputs": [],
   "source": [
    "fig=plt.figure(figsize=(10,10))\n",
    "gs = fig.add_gridspec(4, 3, hspace=0.2, wspace=0)\n",
    "axs = gs.subplots(sharex='col', sharey='row')\n",
    "axs[-1,-1].axis(\"off\");\n",
    "\n",
    "minn = np.min(MomProb2);\n",
    "maxx = np.max(MomProb2);\n",
    "for i in range(11):\n",
    "    ax = axs[i//3, i% 3];\n",
    "    im=ax.imshow(np.reshape(MomProb2[:,i], (AList.size,VList.size)), cmap=\"magma\",extent =[VList[0],VList[-1],AList[0],AList[-1]], aspect=50, vmin=minn, vmax = maxx, label=str(2*i-10)+\"$\\hbar k_L$\")\n",
    "\n",
    "\n",
    "    ax.set_title(str(-10+2*i)+\"$\\hbar k_L$\")\n",
    "    ax.set_xlabel(\"V0\")\n",
    "    ax.set_ylabel(\"a\")\n",
    "\n",
    "fig.colorbar(im,  orientation='vertical')\n",
    "\n",
    "\n",
    "for ax in fig.get_axes():\n",
    "    ax.label_outer()\n",
    "\n",
    "plt.show()"
   ]
  },
  {
   "cell_type": "code",
   "execution_count": null,
   "metadata": {},
   "outputs": [],
   "source": [
    "datamom =np.reshape(MomProb, (AList.size,VList.size,11));\n",
    "plt.imshow(datamom[:,25,:].transpose(), cmap='gray', extent=(AList[0],AList[-1], 10,-10), aspect=1/10000)\n",
    "plt.xlabel(\"acc\")\n",
    "plt.ylabel(\"$n\\hbar k_L$\")"
   ]
  },
  {
   "cell_type": "code",
   "execution_count": null,
   "metadata": {},
   "outputs": [],
   "source": [
    "datamom =np.reshape(MomProb, (AList.size,VList.size,11));\n",
    "plt.imshow(datamom[25,:,:].transpose(), cmap='gray', extent=(VList[0],VList[-1], 10,-10), aspect=1/20)\n",
    "plt.xlabel(\"V0\")\n",
    "plt.ylabel(\"$n\\hbar k_L$\")"
   ]
  },
  {
   "cell_type": "markdown",
   "metadata": {},
   "source": [
    "## Jenson-Shannon Divergence"
   ]
  },
  {
   "cell_type": "markdown",
   "metadata": {},
   "source": [
    "### Defining Divergence Functions"
   ]
  },
  {
   "cell_type": "code",
   "execution_count": null,
   "metadata": {},
   "outputs": [],
   "source": [
    "def KLDivergence( P, Q):\n",
    "    if len(P) != len(Q):\n",
    "        return None;\n",
    "    sum =0;\n",
    "\n",
    "    for i in range(len(P)):\n",
    "        sum = np.dot(P, np.log2( np.divide(P, Q)));\n",
    "\n",
    "    return sum;\n"
   ]
  },
  {
   "cell_type": "code",
   "execution_count": null,
   "metadata": {},
   "outputs": [],
   "source": [
    "def JSDivergence( P, Q):\n",
    "    M = (P+Q)/2;\n",
    "    JS = 0.5 * ( KLDivergence(P,M) + KLDivergence(Q, M));\n",
    "    return JS;\n"
   ]
  },
  {
   "cell_type": "markdown",
   "metadata": {},
   "source": [
    "### $JSD(a,a')$ plots and extracting $I_{aa}$"
   ]
  },
  {
   "cell_type": "code",
   "execution_count": null,
   "metadata": {},
   "outputs": [],
   "source": [
    "momindices=np.where(AVListIndex[:,1]==25)[0];\n",
    "momproblist =MomProb[momindices];\n",
    "indices = AVListIndex[momindices];\n",
    "\n",
    "accindices = indices[:, 0];\n",
    "acc = AList[accindices]\n",
    "\n",
    "no_of_values = len(accindices);\n",
    "JSDivergenceMatrix=np.zeros((no_of_values, no_of_values)) ;\n",
    "\n",
    "for i in accindices:\n",
    "    for j in accindices:\n",
    "        JSDivergenceMatrix [i][j]= JSDivergence(momproblist[i], momproblist[j])\n",
    "\n",
    "plt.imshow(JSDivergenceMatrix, cmap=\"plasma_r\", extent=[acc[0]*accUnit/g, acc[-1]*accUnit/g, acc[-1]*accUnit/g, acc[0] *accUnit/g])\n",
    "indices_JS = np.where(JSDivergenceMatrix==0)\n",
    "plt.plot(AList[indices_JS[1]]*accUnit/g, AList[indices_JS[0]]*accUnit/g)\n",
    "plt.gca().invert_yaxis();\n",
    "plt.colorbar()\n",
    "plt.xlabel(\"Acceleration ($g$)\")\n",
    "plt.ylabel(\"Acceleration ($g$)\")\n",
    "plt.title(\"$V_0$ = \"+str(VList[25]))\n",
    "plt.savefig(\"JS_acc.png\")"
   ]
  },
  {
   "cell_type": "code",
   "execution_count": null,
   "metadata": {},
   "outputs": [],
   "source": [
    "plt.imshow(JSDivergenceMatrix, cmap=\"plasma_r\")\n",
    "plt.colorbar()"
   ]
  },
  {
   "cell_type": "code",
   "execution_count": null,
   "metadata": {},
   "outputs": [],
   "source": [
    "momindices=np.where(AVListIndex[:,1]==25)[0];\n",
    "momproblist =MomProb[momindices];\n",
    "indices = AVListIndex[momindices];\n",
    "\n",
    "accindices = indices[:, 0];\n",
    "acc = AList[accindices]\n",
    "\n",
    "no_of_values = len(accindices);\n",
    "JSDivergenceMatrix=np.zeros((no_of_values, no_of_values)) ;\n",
    "\n",
    "for i in accindices:\n",
    "    for j in accindices:\n",
    "        JSDivergenceMatrix [i][j]= JSDivergence(momproblist[i], momproblist[j])\n",
    "\n",
    "plt.imshow(JSDivergenceMatrix, cmap=\"plasma_r\", extent=[acc[0]*accUnit/g, acc[-1]*accUnit/g, acc[-1]*accUnit/g, acc[0] *accUnit/g])\n",
    "indices_JS = np.where(JSDivergenceMatrix==0)\n",
    "plt.plot(AList[indices_JS[1]]*accUnit/g,AList[indices_JS[0]]*accUnit/g)\n",
    "plt.colorbar()\n",
    "plt.xlabel(\"Acceleration ($g$)\")\n",
    "plt.ylabel(\"Acceleration ($g$)\")\n",
    "plt.title(\"$V_0$ = \"+str(VList[25]))\n",
    "plt.savefig(\"JS_acc.png\")"
   ]
  },
  {
   "cell_type": "code",
   "execution_count": null,
   "metadata": {},
   "outputs": [],
   "source": [
    "plt.plot(AList*accUnit/g, JSDivergenceMatrix[50,:], label=\"\");\n",
    "plt.grid(True, which=\"both\")\n",
    "plt.plot(AList[40:60]*accUnit/g, JSDivergenceMatrix[50,40:60])\n"
   ]
  },
  {
   "cell_type": "markdown",
   "metadata": {},
   "source": [
    "Positive and symmetric curvature implies Fisher information "
   ]
  },
  {
   "cell_type": "code",
   "execution_count": null,
   "metadata": {},
   "outputs": [],
   "source": [
    "p = np.polyfit(AList[40:60], JSDivergenceMatrix[50,40:60],deg=2);\n",
    "print(p)"
   ]
  },
  {
   "cell_type": "code",
   "execution_count": null,
   "metadata": {},
   "outputs": [],
   "source": [
    "print(p[0]*8*np.log(2))"
   ]
  },
  {
   "cell_type": "markdown",
   "metadata": {},
   "source": [
    "the above is our CFI value from fit"
   ]
  },
  {
   "cell_type": "code",
   "execution_count": null,
   "metadata": {},
   "outputs": [],
   "source": [
    "plt.plot(AList, JSDivergenceMatrix[50,:], label=\"JSD\");\n",
    "data = p[0]*AList[40:61]**2+p[1]*AList[40:61] +p[2]\n",
    "plt.grid(True, which=\"both\")\n",
    "plt.plot(AList[40:61], data, label=\"Quadratic Fit\")\n",
    "plt.xlabel(\"$a'$ in units of $g$\");\n",
    "plt.ylabel(\"$D_{JS}(a',a=0.0)$\")\n",
    "plt.legend()\n",
    "plt.title(\"Jenson Shannon Divergence of $a'$ vs $a=0.0$\")"
   ]
  },
  {
   "cell_type": "code",
   "execution_count": null,
   "metadata": {},
   "outputs": [],
   "source": [
    "#fftmatrix = fft.fft(np.concatenate( (JSDivergenceMatrix[50,50:], np.flip(JSDivergenceMatrix[50,50:]) )) );\n",
    "fftmatrix = fft.fft( JSDivergenceMatrix[50,50:75]  );\n",
    "plt.plot(abs(fftmatrix), 'x-')\n",
    "plt.title(\"Fourier Transform of JSD\")\n",
    "plt.ylabel(\"Norm of coefficients\")\n",
    "plt.xlabel(\"Discrete fourier frequencies\");\n",
    "plt.grid(True, which=\"both\")"
   ]
  },
  {
   "cell_type": "markdown",
   "metadata": {},
   "source": [
    "### $JSD(V,V')$ plots"
   ]
  },
  {
   "cell_type": "code",
   "execution_count": null,
   "metadata": {},
   "outputs": [],
   "source": [
    "momindices=np.where(AVListIndex[:,0]==50)[0];\n",
    "momproblist =MomProb[momindices];\n",
    "indices = AVListIndex[momindices];\n",
    "\n",
    "lattindices = indices[:, 1];\n",
    "latt = VList[lattindices]\n",
    "\n",
    "no_of_values = len(lattindices);\n",
    "JSDivergenceMatrix=np.zeros((no_of_values, no_of_values)) ;\n",
    "\n",
    "for i in lattindices:\n",
    "    for j in lattindices:\n",
    "        JSDivergenceMatrix [i][j]= JSDivergence(momproblist[i], momproblist[j])\n",
    "\n",
    "plt.imshow(JSDivergenceMatrix, cmap=\"plasma_r\", extent=[latt[0], latt[-1], latt[-1], latt[0] ])\n",
    "indices_JS = np.where(JSDivergenceMatrix==0)\n",
    "plt.plot(VList[indices_JS[1]], VList[indices_JS[0]])\n",
    "plt.colorbar()\n",
    "plt.xlabel(\"$V_0$\");\n",
    "plt.ylabel(\"$V_0$\");\n",
    "plt.title(\"a = \"+ str(AList[50]))\n",
    "plt.savefig(\"JS_latt.png\")"
   ]
  },
  {
   "cell_type": "code",
   "execution_count": null,
   "metadata": {},
   "outputs": [],
   "source": [
    "momindices=np.where(AVListIndex[:,0]==50)[0];\n",
    "momproblist =MomProb[momindices];\n",
    "indices = AVListIndex[momindices];\n",
    "\n",
    "lattindices = indices[:, 1];\n",
    "latt = VList[lattindices]\n",
    "\n",
    "no_of_values = len(lattindices);\n",
    "JSDivergenceMatrix=np.zeros((no_of_values, no_of_values)) ;\n",
    "\n",
    "for i in lattindices:\n",
    "    for j in lattindices:\n",
    "        JSDivergenceMatrix [i][j]= JSDivergence(momproblist[i], momproblist[j])\n",
    "\n",
    "plt.imshow(JSDivergenceMatrix, cmap=\"plasma_r\", extent=[latt[0], latt[-1], latt[-1], latt[0] ])\n",
    "indices_JS = np.where(JSDivergenceMatrix==0)\n",
    "plt.plot(VList[indices_JS[1]], VList[indices_JS[0]])\n",
    "plt.gca().invert_yaxis()\n",
    "plt.colorbar()\n",
    "plt.xlabel(\"$V_0$\");\n",
    "plt.ylabel(\"$V_0$\");\n",
    "plt.title(\"a = \"+ str(AList[50]))\n",
    "plt.savefig(\"JS_latt.png\")"
   ]
  },
  {
   "cell_type": "markdown",
   "metadata": {},
   "source": [
    "### Cross-correlation $JSD(a',V')$"
   ]
  },
  {
   "cell_type": "code",
   "execution_count": null,
   "metadata": {},
   "outputs": [],
   "source": [
    "momindices_a=np.where(AVListIndex[:,1]==25)[0];\n",
    "momproblist_a =MomProb[momindices_a];\n",
    "indices_a = AVListIndex[momindices_a];\n",
    "\n",
    "momindices_V=np.where(AVListIndex[:,0]==50)[0];\n",
    "momproblist_V =MomProb[momindices_V];\n",
    "indices_V = AVListIndex[momindices_V];\n",
    "\n",
    "accindices = indices_a[:, 0];\n",
    "acc = AList[accindices];\n",
    "\n",
    "lattindices = indices_V[:, 1];\n",
    "latt = VList[lattindices]\n",
    "\n",
    "no_of_values_a = len(accindices);\n",
    "no_of_values_V = len(lattindices);\n",
    "JSDivergenceMatrix=np.zeros((no_of_values_a, no_of_values_V)) ;\n",
    "\n",
    "for i in accindices:\n",
    "    for j in lattindices:\n",
    "        JSDivergenceMatrix [i][j]= JSDivergence(momproblist_a[i], momproblist_V[j])\n",
    "\n",
    "plt.imshow(JSDivergenceMatrix, cmap=\"plasma_r\", extent=[latt[0], latt[-1], acc[-1], acc[0] ], aspect=50)\n",
    "indices_JS = np.where(JSDivergenceMatrix==0.0)\n",
    "plt.plot(VList[indices_JS[1]],AList[indices_JS[0]], 'x')\n",
    "plt.gca().invert_yaxis()\n",
    "#plt.plot(AList[indices_JS[0]],VList[indices_JS[1]])\n",
    "plt.xlabel(\"$V_0$ with $a=$\"+str(AList[50]))\n",
    "plt.ylabel(\"$a$ with $V0=$\"+str(VList[25]))\n",
    "plt.colorbar()\n",
    "plt.title(\"cross correlation\")\n",
    "plt.savefig(\"JS_cross.png\")\n"
   ]
  },
  {
   "cell_type": "code",
   "execution_count": null,
   "metadata": {},
   "outputs": [],
   "source": [
    "momindices_a=np.where(AVListIndex[:,1]==25)[0];\n",
    "momproblist_a =MomProb[momindices_a];\n",
    "indices_a = AVListIndex[momindices_a];\n",
    "\n",
    "momindices_V=np.where(AVListIndex[:,0]==50)[0];\n",
    "momproblist_V =MomProb[momindices_V];\n",
    "indices_V = AVListIndex[momindices_V];\n",
    "\n",
    "accindices = indices_a[:, 0];\n",
    "acc = AList[accindices];\n",
    "\n",
    "lattindices = indices_V[:, 1];\n",
    "latt = VList[lattindices]\n",
    "\n",
    "no_of_values_a = len(accindices);\n",
    "no_of_values_V = len(lattindices);\n",
    "JSDivergenceMatrix=np.zeros((no_of_values_a, no_of_values_V)) ;\n",
    "\n",
    "for i in accindices:\n",
    "    for j in lattindices:\n",
    "        JSDivergenceMatrix [i][j]= JSDivergence(momproblist_a[i], momproblist_V[j])\n",
    "\n",
    "plt.imshow(JSDivergenceMatrix, cmap=\"plasma_r\", extent=[latt[0], latt[-1], acc[-1], acc[0] ], aspect=50)\n",
    "indices_JS = np.where(JSDivergenceMatrix==0.0)\n",
    "plt.plot(VList[indices_JS[1]],AList[indices_JS[0]], 'x')\n",
    "#plt.plot(AList[indices_JS[0]],VList[indices_JS[1]])\n",
    "plt.gca().invert_yaxis();\n",
    "plt.xlabel(\"$V_0$ with $a=$\"+str(AList[50]))\n",
    "plt.ylabel(\"$a$ with $V0=$\"+str(VList[25]))\n",
    "plt.colorbar()\n",
    "plt.title(\"cross correlation\")\n",
    "plt.savefig(\"JS_cross.png\")\n"
   ]
  },
  {
   "cell_type": "code",
   "execution_count": null,
   "metadata": {},
   "outputs": [],
   "source": [
    "min"
   ]
  },
  {
   "cell_type": "markdown",
   "metadata": {},
   "source": [
    "## Exploring Dynamic Range"
   ]
  },
  {
   "cell_type": "code",
   "execution_count": null,
   "metadata": {},
   "outputs": [],
   "source": [
    "momindices=np.where(AVListIndex[:,1]==25)[0];\n",
    "momproblist =MomProb[momindices];\n",
    "indices = AVListIndex[momindices];\n",
    "\n",
    "accindices = indices[:, 0];\n",
    "acc = AList[accindices]\n",
    "\n",
    "no_of_values = len(accindices);\n",
    "JSDivergenceMatrix=np.zeros((no_of_values, no_of_values)) ;\n",
    "\n",
    "for i in accindices:\n",
    "    for j in accindices:\n",
    "        JSDivergenceMatrix [i][j]= JSDivergence(momproblist[i], momproblist[j])\n",
    "\n",
    "JSDivergenceMatrix[JSDivergenceMatrix>0.05]=0;\n",
    "plt.imshow(JSDivergenceMatrix, cmap=\"magma\", extent=[acc[0]*accUnit/g, acc[-1]*accUnit/g, acc[-1]*accUnit/g, acc[0] *accUnit/g])\n",
    "plt.colorbar()\n",
    "plt.xlabel(\"Acceleration ($g$)\")\n",
    "plt.ylabel(\"Acceleration ($g$)\")\n",
    "plt.title(VList[25])\n",
    "plt.savefig(\"JS_acc_range.png\")\n"
   ]
  },
  {
   "cell_type": "code",
   "execution_count": null,
   "metadata": {},
   "outputs": [],
   "source": [
    "momindices=np.where(AVListIndex[:,0]==50)[0];\n",
    "momproblist =MomProb[momindices];\n",
    "indices = AVListIndex[momindices];\n",
    "\n",
    "lattindices = indices[:, 1];\n",
    "latt = VList[lattindices]\n",
    "\n",
    "no_of_values = len(lattindices);\n",
    "JSDivergenceMatrix=np.zeros((no_of_values, no_of_values)) ;\n",
    "\n",
    "for i in lattindices:\n",
    "    for j in lattindices:\n",
    "        JSDivergenceMatrix [i][j]= JSDivergence(momproblist[i], momproblist[j])\n",
    "\n",
    "JSDivergenceMatrix[JSDivergenceMatrix>0.1]=0;\n",
    "plt.imshow(JSDivergenceMatrix, cmap=\"magma\", extent=[latt[0], latt[-1], latt[-1], latt[0] ])\n",
    "plt.colorbar()\n",
    "plt.xlabel(\"$V_0$\");\n",
    "plt.ylabel(\"$V_0$\");\n",
    "\n",
    "plt.title(\"a = \"+ str(AList[50]));\n",
    "plt.savefig(\"JS_latt_range.png\")"
   ]
  },
  {
   "cell_type": "code",
   "execution_count": null,
   "metadata": {},
   "outputs": [],
   "source": [
    "momindices_a=np.where(AVListIndex[:,1]==25)[0];\n",
    "momproblist_a =MomProb[momindices_a];\n",
    "indices_a = AVListIndex[momindices_a];\n",
    "\n",
    "momindices_V=np.where(AVListIndex[:,0]==50)[0];\n",
    "momproblist_V =MomProb[momindices_V];\n",
    "indices_V = AVListIndex[momindices_V];\n",
    "\n",
    "accindices = indices_a[:, 0];\n",
    "acc = AList[accindices];\n",
    "\n",
    "lattindices = indices_V[:, 1];\n",
    "latt = VList[lattindices]\n",
    "\n",
    "no_of_values_a = len(accindices);\n",
    "no_of_values_V = len(lattindices);\n",
    "JSDivergenceMatrix=np.zeros((no_of_values_a, no_of_values_V)) ;\n",
    "\n",
    "for i in accindices:\n",
    "    for j in lattindices:\n",
    "        JSDivergenceMatrix [i][j]= JSDivergence(momproblist_a[i], momproblist_V[j])\n",
    "\n",
    "JSDivergenceMatrix[JSDivergenceMatrix>0.1]=0;\n",
    "plt.imshow(JSDivergenceMatrix, cmap=\"magma\", extent=[latt[0], latt[-1], acc[-1], acc[0] ], aspect=50)\n",
    "plt.xlabel(\"$V_0$ with $a=$\"+str(AList[50]))\n",
    "plt.ylabel(\"$a$ with $V0=$\"+str(VList[25]))\n",
    "plt.colorbar()\n",
    "plt.title(\"cross correlation\")\n",
    "plt.savefig(\"JS_cross_range.png\")\n"
   ]
  },
  {
   "cell_type": "markdown",
   "metadata": {},
   "source": [
    "## Automating Sensitivity Plots (In Progress)"
   ]
  },
  {
   "cell_type": "markdown",
   "metadata": {},
   "source": [
    "### Bayesian Code"
   ]
  },
  {
   "cell_type": "code",
   "execution_count": null,
   "metadata": {},
   "outputs": [],
   "source": [
    "\n",
    "plotPaV=np.array([PaVprior]);\n",
    "\n",
    "counter =0;\n",
    "for m in outcomes:\n",
    "    for i in range(AList.size*VList.size):\n",
    "        indexpair = AVListIndex[i];\n",
    "        MomentumProbabilities = MomProb[i];\n",
    "\n",
    "        PaVprior[indexpair[0], indexpair[1]] *= (MomentumProbabilities[m])\n",
    "        PaVprior/=np.sum(PaVprior)\n",
    "\n",
    "    counter+=1;\n",
    "    if counter % 50 == 0:\n",
    "        plotPaV=np.append(plotPaV,[PaVprior], axis=0); \n",
    "    \n"
   ]
  },
  {
   "cell_type": "markdown",
   "metadata": {},
   "source": [
    "### Bayesian Contour"
   ]
  },
  {
   "cell_type": "code",
   "execution_count": null,
   "metadata": {},
   "outputs": [],
   "source": [
    "fig = plt.figure();\n",
    "\n",
    "sumplotPaV=np.zeros(plotPaV[0].shape);\n",
    "# fig.suptitle('P(a,V|m) with successive m')\n",
    "\n",
    "\n",
    "# Hide x labels and tick labels for all but bottom plot.\n",
    "for i in range(len(plotPaV)):\n",
    "    temp = np.copy(plotPaV[i]);\n",
    "    cutoff = np.max(temp)/2;\n",
    "    temp[abs(temp-cutoff)<=0.001]=1;\n",
    "    temp[temp!=1]=0;\n",
    "    sumplotPaV+=temp;\n",
    "   # axs[i].imshow(plotPaV[i], cmap = \"magma\" , extent =[VList[0],VList[-1],AList[0],AList[-1]], aspect=25);\n",
    "\n",
    "plt.imshow(sumplotPaV, cmap = \"magma\" , extent =[VList[0],VList[-1],AList[0],AList[-1]], aspect=25)\n",
    "plt.xlabel(\"$V_0$\");\n",
    "plt.ylabel(\"$a$\")\n",
    "plt.suptitle(\"$P(a,V_0 |m)$ for every 10 measurements\")"
   ]
  },
  {
   "cell_type": "code",
   "execution_count": null,
   "metadata": {},
   "outputs": [],
   "source": [
    "plotPaV[10].shape\n",
    "temp = np.copy(plotPaV[10]);\n",
    "cutoff = np.max(temp)/2;\n",
    "temp[abs(temp-cutoff)<=0.001]=1;\n",
    "temp[temp!=1]=0.0;\n",
    "(X,Y)= np.nonzero(temp);\n",
    "plt.plot(X, Y, 'x')"
   ]
  },
  {
   "cell_type": "code",
   "execution_count": null,
   "metadata": {},
   "outputs": [],
   "source": [
    "fig = plt.figure();\n",
    "desired_no_of_plots = len(plotPaV)\n",
    "epsilon = 0.001;\n",
    "\n",
    "#ax = fig.add_subplot(projection=\"3d\");\n",
    "for i in range(4, desired_no_of_plots, 10):\n",
    "    temp = np.copy(plotPaV[i]);\n",
    "    cutoff = np.max(temp)/2;\n",
    "\n",
    "    temp[abs(temp-cutoff)<=epsilon*i/4]=1;\n",
    "    temp[temp!=1]=0.0;\n",
    "\n",
    "    (X,Y) = np.nonzero(temp);   \n",
    "    z = np.ones(len(X))*i;\n",
    "    #ax.plot(VList[Y], AList[X],z,'x', label = str(i));\n",
    "    plt.plot(VList[Y], AList[X],'x', label = str(i));\n",
    "   # axs[i].imshow(plotPaV[i], cmap = \"magma\" , extent =[VList[0],VList[-1],AList[0],AList[-1]], aspect=25);\n",
    "\n",
    "\n",
    "plt.ylabel(\"$a$\");\n",
    "plt.xlabel(\"$V_0$\")\n",
    "plt.legend()\n",
    "plt.title(\"$P(a,V_0 |m)$ for every 10 measurements\")\n",
    "plt.show()"
   ]
  },
  {
   "cell_type": "code",
   "execution_count": null,
   "metadata": {},
   "outputs": [],
   "source": [
    "fig = plt.figure();\n",
    "desired_no_of_plots = 20;\n",
    "sumplotPaV=np.zeros(plotPaV[0].shape);\n",
    "\n",
    "for i in range(0, len(plotPaV)):\n",
    "   temp = np.copy(plotPaV[i]);\n",
    "   cutoff = np.max(temp)/2;\n",
    "#   temp[abs(temp-cutoff)<=0.001]=1;\n",
    "#   temp[temp!=1]=0.0;\n",
    "   temp[abs(temp-cutoff)>=0.01]=0.0;\n",
    "   temp[temp!=0.0]=i;\n",
    "   sumplotPaV+=temp;\n",
    "   # axs[i].imshow(plotPaV[i], cmap = \"magma\" , extent =[VList[0],VList[-1],AList[0],AList[-1]], aspect=25);\n",
    "\n",
    "plt.imshow(sumplotPaV, cmap = \"magma\" , extent =[VList[0],VList[-1],AList[0],AList[-1]], aspect=25)\n",
    "plt.colorbar()\n",
    "plt.ylabel(\"$a$\");\n",
    "plt.xlabel(\"$V_0$\")\n",
    "plt.title(\"$P(a,V_0 |m)$ for every 10 measurements\")"
   ]
  },
  {
   "cell_type": "code",
   "execution_count": null,
   "metadata": {},
   "outputs": [],
   "source": [
    "momindices=np.where(AVListIndex[:,1]==25)[0];\n",
    "momproblist =MomProb[momindices];\n",
    "indices = AVListIndex[momindices];\n",
    "\n",
    "accindices = indices[:, 0];\n",
    "acc = AList[accindices]\n",
    "\n",
    "no_of_values = len(accindices);\n",
    "JSDivergenceMatrix=np.zeros((no_of_values, no_of_values)) ;\n",
    "\n",
    "for i in accindices:\n",
    "    for j in accindices:\n",
    "        JSDivergenceMatrix [i][j]= JSDivergence(momproblist[i], momproblist[j])\n",
    "\n",
    "plt.imshow(JSDivergenceMatrix, cmap=\"plasma_r\", extent=[acc[0]*accUnit/g, acc[-1]*accUnit/g, acc[-1]*accUnit/g, acc[0] *accUnit/g])\n",
    "indices_JS = np.where(JSDivergenceMatrix==0)\n",
    "plt.plot(AList[indices_JS[0]]*accUnit/g,AList[indices_JS[1]]*accUnit/g)\n",
    "plt.colorbar()\n",
    "plt.xlabel(\"Acceleration ($g$)\")\n",
    "plt.ylabel(\"Acceleration ($g$)\")\n",
    "plt.title(VList[25])\n"
   ]
  }
 ],
 "metadata": {
  "kernelspec": {
   "display_name": "Research",
   "language": "python",
   "name": "python3"
  },
  "language_info": {
   "codemirror_mode": {
    "name": "ipython",
    "version": 3
   },
   "file_extension": ".py",
   "mimetype": "text/x-python",
   "name": "python",
   "nbconvert_exporter": "python",
   "pygments_lexer": "ipython3",
   "version": "3.11.4"
  }
 },
 "nbformat": 4,
 "nbformat_minor": 2
}
